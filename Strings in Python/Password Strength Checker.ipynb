{
 "cells": [
  {
   "cell_type": "code",
   "execution_count": 31,
   "id": "e14ab43d-c8d6-4ced-90be-285b32e8136b",
   "metadata": {},
   "outputs": [
    {
     "name": "stdin",
     "output_type": "stream",
     "text": [
      "Enter a password: !gen25\n"
     ]
    },
    {
     "name": "stdout",
     "output_type": "stream",
     "text": [
      "Your password needs at least 8 characters and one upper letter.\n",
      "Password Strength Score: 6/10\n"
     ]
    }
   ],
   "source": [
    "# In this project, create a program to check the strength of a password. The goal is to make it informative and interactive.\n",
    "# Add a \"password strength meter\" that gives a score out of 10 based on how strong the password is.\n",
    "\n",
    "## Step 1: Input the Password\n",
    "password = input(\"Enter a password:\")\n",
    "\n",
    "## Step 2: Evaluate the Password\n",
    "errors = []\n",
    "scores = 0\n",
    "\n",
    "## 1. Length: It should be at least 8 characters.\n",
    "if not len(password) < 8:\n",
    "    scores += 2\n",
    "else:\n",
    "    errors.append(\"8 characters\")\n",
    "    \n",
    "## 2. Contain at least one lowercase letter, one upper letter, one digit, and one special character (like @, #, $).\n",
    "if any(char.islower() for char in password):\n",
    "    scores += 2\n",
    "else:\n",
    "    errors.append(\"one lowercase letter\")\n",
    "    \n",
    "if any(char.isupper() for char in password):\n",
    "    scores += 2 \n",
    "else:\n",
    "    errors.append(\"one upper letter\")\n",
    "\n",
    "if any(char.isdigit() for char in password):\n",
    "    scores += 2\n",
    "else:\n",
    "    errors.append(\"one digit\")\n",
    "    \n",
    "if any(not char.isalnum() for char in password):\n",
    "    scores += 2\n",
    "else:\n",
    "    errors.append(\"one special character\")\n",
    "    \n",
    "if errors:\n",
    "    print(\"Your password needs at least\", \" and \".join(errors) + \".\")\n",
    "else:\n",
    "    print(\"Your password is strong! 💪\")\n",
    "\n",
    "print(f\"Password Strength Score: {scores}/10\")"
   ]
  }
 ],
 "metadata": {
  "kernelspec": {
   "display_name": "Python 3 (ipykernel)",
   "language": "python",
   "name": "python3"
  },
  "language_info": {
   "codemirror_mode": {
    "name": "ipython",
    "version": 3
   },
   "file_extension": ".py",
   "mimetype": "text/x-python",
   "name": "python",
   "nbconvert_exporter": "python",
   "pygments_lexer": "ipython3",
   "version": "3.12.4"
  }
 },
 "nbformat": 4,
 "nbformat_minor": 5
}
