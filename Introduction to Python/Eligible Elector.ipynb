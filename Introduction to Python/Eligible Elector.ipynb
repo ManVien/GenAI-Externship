{
 "cells": [
  {
   "cell_type": "code",
   "execution_count": 27,
   "id": "21c8b46d-cc05-4a40-ace3-4089082afe11",
   "metadata": {},
   "outputs": [
    {
     "name": "stdin",
     "output_type": "stream",
     "text": [
      "How old are you? 16\n"
     ]
    },
    {
     "name": "stdout",
     "output_type": "stream",
     "text": [
      "Oops! You’re not eligible yet. But hey, only 2 more years to go!\n"
     ]
    }
   ],
   "source": [
    "# writing a program to check voter eligibility\n",
    "\n",
    "## Step 1: Ask the User’s Age\n",
    "age = int(input(\"How old are you?\"))\n",
    "\n",
    "## Step 2: Decide the Eligibility\n",
    "### If the user’s age is 18 or above\n",
    "if age >= 18:\n",
    "    print(\"Congratulations! You are eligible to vote. Go make a difference!\")\n",
    "### If the user’s age is less than 18, calculate how many years they have to wait\n",
    "elif age > 0 and age < 18:\n",
    "    X = 18 - age\n",
    "    print(\"Oops! You’re not eligible yet. But hey, only \" + str(X) + \" more years to go!\")\n",
    "else:\n",
    "    print(\"Age must be greater than 0 and be an integer.\")"
   ]
  }
 ],
 "metadata": {
  "kernelspec": {
   "display_name": "Python 3 (ipykernel)",
   "language": "python",
   "name": "python3"
  },
  "language_info": {
   "codemirror_mode": {
    "name": "ipython",
    "version": 3
   },
   "file_extension": ".py",
   "mimetype": "text/x-python",
   "name": "python",
   "nbconvert_exporter": "python",
   "pygments_lexer": "ipython3",
   "version": "3.12.4"
  }
 },
 "nbformat": 4,
 "nbformat_minor": 5
}
