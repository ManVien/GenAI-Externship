{
 "cells": [
  {
   "cell_type": "code",
   "execution_count": 1,
   "id": "3c7a164f-d5c9-4275-9738-a648f811a739",
   "metadata": {},
   "outputs": [
    {
     "name": "stdout",
     "output_type": "stream",
     "text": [
      "Welcome to the Error-Free Calculator!\n",
      "\n",
      "Choose an operation:\n",
      "1. Addition\n",
      "2. Subtraction\n",
      "3. Multiplication\n",
      "4. Division\n",
      "5. Exit\n"
     ]
    },
    {
     "name": "stdin",
     "output_type": "stream",
     "text": [
      " 2\n",
      "Enter the first number: 4\n",
      "Enter the second number: abc\n"
     ]
    },
    {
     "name": "stdout",
     "output_type": "stream",
     "text": [
      "Invalid input! Please enter a valid number.\n"
     ]
    },
    {
     "name": "stdin",
     "output_type": "stream",
     "text": [
      "Enter the second number: 6\n"
     ]
    },
    {
     "name": "stdout",
     "output_type": "stream",
     "text": [
      "The result of subtraction is -2.0\n",
      "Operation complete.\n",
      "\n",
      "Choose an operation:\n",
      "1. Addition\n",
      "2. Subtraction\n",
      "3. Multiplication\n",
      "4. Division\n",
      "5. Exit\n"
     ]
    },
    {
     "name": "stdin",
     "output_type": "stream",
     "text": [
      " 4\n",
      "Enter the first number: 10\n",
      "Enter the second number: 0\n"
     ]
    },
    {
     "name": "stdout",
     "output_type": "stream",
     "text": [
      "Oops! Division by zero is not allowed.\n",
      "Operation complete.\n",
      "\n",
      "Choose an operation:\n",
      "1. Addition\n",
      "2. Subtraction\n",
      "3. Multiplication\n",
      "4. Division\n",
      "5. Exit\n"
     ]
    },
    {
     "name": "stdin",
     "output_type": "stream",
     "text": [
      " 6\n"
     ]
    },
    {
     "name": "stdout",
     "output_type": "stream",
     "text": [
      "Invalid choice. Please select a number from 1 to 5.\n",
      "\n",
      "Choose an operation:\n",
      "1. Addition\n",
      "2. Subtraction\n",
      "3. Multiplication\n",
      "4. Division\n",
      "5. Exit\n"
     ]
    },
    {
     "name": "stdin",
     "output_type": "stream",
     "text": [
      " 5\n"
     ]
    },
    {
     "name": "stdout",
     "output_type": "stream",
     "text": [
      "Goodbye!\n"
     ]
    }
   ],
   "source": [
    "# In this project, you will create a Python calculator \n",
    "# that gracefully handles exceptions and provides helpful feedback to users.\n",
    "\n",
    "import logging\n",
    "\n",
    "# Use the logging module to log errors to a file named error_log.txt \n",
    "# whenever an exception occurs.\n",
    "logging.basicConfig(filename = 'error_log.txt', level = logging.ERROR)\n",
    "\n",
    "def get_number(num):\n",
    "    while True:\n",
    "        try:\n",
    "            return float(input(num))\n",
    "        ## ValueError: Ensure the inputs are numbers.\n",
    "        except ValueError as e:\n",
    "            print(\"Invalid input! Please enter a valid number.\")\n",
    "            logging.error(f\"ValueError occured: {e}\")\n",
    "            \n",
    "def main():\n",
    "    # Step 1: Menu of Operations\n",
    "    ## Create a program that displays a menu with the following operations:\n",
    "    print(\"Welcome to the Error-Free Calculator!\")\n",
    "\n",
    "    while True:\n",
    "        print(\"\\nChoose an operation:\\n\" \n",
    "              \"1. Addition\\n\" \n",
    "              \"2. Subtraction\\n\"\n",
    "              \"3. Multiplication\\n\"\n",
    "              \"4. Division\\n\"\n",
    "              \"5. Exit\")\n",
    "    \n",
    "        choice = int(input(\"\"))\n",
    "\n",
    "        if choice == 5:\n",
    "            print(\"Goodbye!\")\n",
    "            break\n",
    "\n",
    "        if choice not in [1, 2, 3, 4]:\n",
    "            print(\"Invalid choice. Please select a number from 1 to 5.\")\n",
    "            continue\n",
    "\n",
    "        num1 = get_number(\"Enter the first number:\")\n",
    "        num2 = get_number(\"Enter the second number:\") \n",
    "\n",
    "        # Step 2: Input Validation\n",
    "        ## Add input validation to ensure the user enters numbers only for the calculations. \n",
    "        ## If the input is invalid, catch the exception and prompt the user again.\n",
    "        try:\n",
    "            if choice == 1:\n",
    "                result = num1 + num2\n",
    "                operation = \"addition\"\n",
    "            elif choice == 2:\n",
    "                result = num1 - num2\n",
    "                operation = \"subtraction\"\n",
    "            elif choice == 3:\n",
    "                result = num1 * num2\n",
    "                operation = \"multiplication\"\n",
    "            elif choice == 4:\n",
    "                result = num1 / num2\n",
    "                operation = \"division\"\n",
    "                \n",
    "        # Step 3: Division with Exception Handling\n",
    "        ## ZeroDivisionError: Print a friendly message when dividing by zero.\n",
    "        except ZeroDivisionError as e: \n",
    "            print(\"Oops! Division by zero is not allowed.\")\n",
    "            logging.error(f\"ZeroDivisionError occured: {e}\")\n",
    "        else:\n",
    "            print(f\"The result of {operation} is {result}\")\n",
    "        finally:\n",
    "            print(\"Operation complete.\")\n",
    "            \n",
    "main()"
   ]
  }
 ],
 "metadata": {
  "kernelspec": {
   "display_name": "Python 3 (ipykernel)",
   "language": "python",
   "name": "python3"
  },
  "language_info": {
   "codemirror_mode": {
    "name": "ipython",
    "version": 3
   },
   "file_extension": ".py",
   "mimetype": "text/x-python",
   "name": "python",
   "nbconvert_exporter": "python",
   "pygments_lexer": "ipython3",
   "version": "3.12.4"
  }
 },
 "nbformat": 4,
 "nbformat_minor": 5
}
