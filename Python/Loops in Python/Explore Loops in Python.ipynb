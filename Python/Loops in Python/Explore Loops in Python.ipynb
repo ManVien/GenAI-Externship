{
 "cells": [
  {
   "cell_type": "markdown",
   "id": "f1520c90-3347-46be-aa5b-9b0b96ad76cb",
   "metadata": {},
   "source": [
    "# Task 1 - Counting Down with Loops\n"
   ]
  },
  {
   "cell_type": "code",
   "execution_count": 5,
   "id": "2cb0313c-685d-4899-9b3e-867882bdb489",
   "metadata": {},
   "outputs": [
    {
     "name": "stdin",
     "output_type": "stream",
     "text": [
      "Enter the starting number: 8\n"
     ]
    },
    {
     "name": "stdout",
     "output_type": "stream",
     "text": [
      "8 7 6 5 4 3 2 1 Blast off! 🚀\n"
     ]
    }
   ],
   "source": [
    "# Write a Python program to create a countdown timer.\n",
    "\n",
    "## Ask the user for a starting number.\n",
    "num = int(input(\"Enter the starting number:\"))\n",
    "\n",
    "## Use a while loop to print numbers from that number down to 1.\n",
    "while num > 0:\n",
    "    print(num, end=\" \")\n",
    "    num -= 1\n",
    "print(\"Blast off! 🚀\")"
   ]
  },
  {
   "cell_type": "markdown",
   "id": "859b1c7f-1bf6-43f4-9e06-5e1f7ff4bc0c",
   "metadata": {},
   "source": [
    "# Task 2 - Multiplication Table with for Loops\n"
   ]
  },
  {
   "cell_type": "code",
   "execution_count": 17,
   "id": "2202b074-061e-4be3-ad0c-f69b02c2ed4d",
   "metadata": {},
   "outputs": [
    {
     "name": "stdin",
     "output_type": "stream",
     "text": [
      "Enter a number: 4\n"
     ]
    },
    {
     "name": "stdout",
     "output_type": "stream",
     "text": [
      "4 x 1 = 4 4 x 2 = 8 4 x 3 = 12 4 x 4 = 16 4 x 5 = 20 4 x 6 = 24 4 x 7 = 28 4 x 8 = 32 4 x 9 = 36 4 x 10 = 40 "
     ]
    }
   ],
   "source": [
    "# Write a program that generates the multiplication table for any number provided by the user.\n",
    "\n",
    "## Ask the user to input a number.\n",
    "num = int(input(\"Enter a number:\"))\n",
    "\n",
    "## Use a for loop to print the multiplication table for that number (from 1 to 10).\n",
    "for i in range(1, 11):\n",
    "    print(f\"{num} x {i} = {num * i}\", end=\" \")"
   ]
  },
  {
   "cell_type": "markdown",
   "id": "39e1a8ad-7147-4cb2-97cf-77a39f868e79",
   "metadata": {},
   "source": [
    "# Task 3 - Find the Factorial\n"
   ]
  },
  {
   "cell_type": "code",
   "execution_count": 1,
   "id": "4f5ef687-95e0-4ae8-aa2b-b363ecda7fbc",
   "metadata": {},
   "outputs": [
    {
     "name": "stdin",
     "output_type": "stream",
     "text": [
      "Enter a number: 0\n"
     ]
    },
    {
     "name": "stdout",
     "output_type": "stream",
     "text": [
      "The factorial of 0 is 1.\n"
     ]
    }
   ],
   "source": [
    "# Write a Python program to calculate the factorial of a number entered by the user.\n",
    "\n",
    "## Ask the user for a number.\n",
    "num = int(input(\"Enter a number:\"))\n",
    "\n",
    "## Use a for loop to calculate the factorial.\n",
    "fac = 1\n",
    "for i in range(1, num+1):\n",
    "    fac *= i \n",
    "print(f\"The factorial of {num} is {fac}.\")"
   ]
  }
 ],
 "metadata": {
  "kernelspec": {
   "display_name": "Python 3 (ipykernel)",
   "language": "python",
   "name": "python3"
  },
  "language_info": {
   "codemirror_mode": {
    "name": "ipython",
    "version": 3
   },
   "file_extension": ".py",
   "mimetype": "text/x-python",
   "name": "python",
   "nbconvert_exporter": "python",
   "pygments_lexer": "ipython3",
   "version": "3.12.4"
  }
 },
 "nbformat": 4,
 "nbformat_minor": 5
}
