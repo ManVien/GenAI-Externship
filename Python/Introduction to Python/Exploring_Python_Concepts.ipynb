{
 "cells": [
  {
   "cell_type": "markdown",
   "id": "0a91b905-1853-442a-b92a-50e66a19aff1",
   "metadata": {},
   "source": [
    "# Task 1 - Variables: Your First Python Intro\n"
   ]
  },
  {
   "cell_type": "code",
   "execution_count": 11,
   "id": "e4d5ea8f-9f8a-4420-a95e-66f9131a179c",
   "metadata": {},
   "outputs": [
    {
     "name": "stdout",
     "output_type": "stream",
     "text": [
      "Hey there, my name is Mandy! I’m 28 years old and 5 feet tall.\n"
     ]
    }
   ],
   "source": [
    "name = \"Mandy\"\n",
    "age = 28\n",
    "height = 5\n",
    "\n",
    "print(\"Hey there, my name is \" + name + \"! I’m \" + str(age) + \" years old and \" + str(height) + \" feet tall.\")"
   ]
  },
  {
   "cell_type": "markdown",
   "id": "95191824-db46-40af-8e3c-47ad02491496",
   "metadata": {},
   "source": [
    "# Task 2 - Operators: Playing with Numbers\n"
   ]
  },
  {
   "cell_type": "code",
   "execution_count": 17,
   "id": "2c0b87e6-4b07-40b4-9412-9bc62d95df55",
   "metadata": {},
   "outputs": [
    {
     "name": "stdout",
     "output_type": "stream",
     "text": [
      "The sum of 21 and 9 is 30\n",
      "The difference between 21 and 9 is 12\n",
      "The product of 21 and 9 is 189\n",
      "The quotient of 21 divided by 9 is 2.3333333333333335\n"
     ]
    }
   ],
   "source": [
    "num1 = 21\n",
    "num2 = 9\n",
    "\n",
    "# Addition\n",
    "print(\"The sum of 21 and 9 is\", num1 + num2)\n",
    "\n",
    "# Subtraction\n",
    "print(\"The difference between 21 and 9 is\", num1 - num2)\n",
    "\n",
    "# Multiplication\n",
    "print(\"The product of 21 and 9 is\", num1 * num2)\n",
    "\n",
    "# Division\n",
    "print(\"The quotient of 21 divided by 9 is\", num1 / num2)"
   ]
  },
  {
   "cell_type": "markdown",
   "id": "6c261d60-1603-4308-bf32-4fc6e7c2e7bd",
   "metadata": {},
   "source": [
    "# Task 3 - Conditional Statements: The Number Checker\n"
   ]
  },
  {
   "cell_type": "code",
   "execution_count": 29,
   "id": "801c7693-9a35-42a9-887c-1cc49f3a2dee",
   "metadata": {},
   "outputs": [
    {
     "name": "stdin",
     "output_type": "stream",
     "text": [
      "Enter a number:  -0.67\n"
     ]
    },
    {
     "name": "stdout",
     "output_type": "stream",
     "text": [
      "This number is negative. Better luck next time!\n"
     ]
    }
   ],
   "source": [
    "# Write a program that takes a number from the user and tells them whether it’s positive, negative, or zero.\n",
    "\n",
    "## Ask the user to enter a number (use the input() function).\n",
    "num = float(input(\"Enter a number: \"))\n",
    "\n",
    "## If the number is greater than 0\n",
    "if num > 0:\n",
    "    print(\"This number is positive. Awesome!\")\n",
    "## If the number is less than 0\n",
    "elif num < 0:\n",
    "    print(\"This number is negative. Better luck next time!\")\n",
    "## If the number is exactly 0    \n",
    "else:\n",
    "    print(\"Zero it is. A perfect balance!\")"
   ]
  }
 ],
 "metadata": {
  "kernelspec": {
   "display_name": "Python 3 (ipykernel)",
   "language": "python",
   "name": "python3"
  },
  "language_info": {
   "codemirror_mode": {
    "name": "ipython",
    "version": 3
   },
   "file_extension": ".py",
   "mimetype": "text/x-python",
   "name": "python",
   "nbconvert_exporter": "python",
   "pygments_lexer": "ipython3",
   "version": "3.12.4"
  }
 },
 "nbformat": 4,
 "nbformat_minor": 5
}
