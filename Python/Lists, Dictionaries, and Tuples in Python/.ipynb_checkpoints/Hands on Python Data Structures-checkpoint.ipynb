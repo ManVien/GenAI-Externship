{
 "cells": [
  {
   "cell_type": "markdown",
   "id": "cf3129a6-7e7a-4050-84b1-735a6781423b",
   "metadata": {},
   "source": [
    "# Task 1 - Working with Lists\r\n"
   ]
  },
  {
   "cell_type": "code",
   "execution_count": 36,
   "id": "45467293-895c-4890-9b44-adf3c1a814eb",
   "metadata": {},
   "outputs": [
    {
     "name": "stdout",
     "output_type": "stream",
     "text": [
      "Original list: ['apple', 'banana', 'cherry', 'date', 'elderberry']\n",
      "After adding a fruit: ['apple', 'banana', 'cherry', 'date', 'elderberry', 'blueberry']\n",
      "After removing a fruit: ['apple', 'banana', 'cherry', 'elderberry', 'blueberry']\n",
      "Reversed list: ['blueberry', 'elderberry', 'cherry', 'banana', 'apple']\n"
     ]
    }
   ],
   "source": [
    "## 1. Create a list of your favorite fruits. Add at least five fruits to the list.\n",
    "fruits = ['apple', 'banana', 'cherry', 'date', 'elderberry']\n",
    "print(\"Original list:\", fruits) \n",
    "\n",
    "## 2. Perform the following operations:\n",
    "### Append a new fruit to the list.\n",
    "fruits.append(\"blueberry\")\n",
    "print(\"After adding a fruit:\", fruits)\n",
    "\n",
    "### Remove one fruit from the list using the remove() method.\n",
    "fruits.remove(\"date\")\n",
    "print(\"After removing a fruit:\", fruits)\n",
    "\n",
    "### Print the list in reverse order using slicing.\n",
    "print(\"Reversed list:\", fruits[::-1]) "
   ]
  },
  {
   "cell_type": "markdown",
   "id": "4fc9aa2c-52cd-424f-9530-b65f039fec63",
   "metadata": {},
   "source": [
    "# Task 2 - Exploring Dictionaries\r\n"
   ]
  },
  {
   "cell_type": "code",
   "execution_count": 58,
   "id": "d17c617f-2933-4ee3-8b8b-e5e3c3d8609b",
   "metadata": {},
   "outputs": [
    {
     "name": "stdout",
     "output_type": "stream",
     "text": [
      "Keys: name, age, city, favorite color\n",
      "Values: mandy, 28, garden grove, blue\n"
     ]
    }
   ],
   "source": [
    "## Create a dictionary to store information about yourself with the following keys: \"name\", \"age\", \"city\".\n",
    "info = {\"name\": \"mandy\", \"age\": 28, \"city\": \"los angeles\"}\n",
    "\n",
    "## Add a new key-value pair to the dictionary for \"favorite color\".\n",
    "info[\"favorite color\"] = \"blue\"\n",
    "\n",
    "## Update the \"city\" key with a new value.\n",
    "info[\"city\"] = \"garden grove\"\n",
    "\n",
    "## Print all the keys and values using a loop.\n",
    "keys = []\n",
    "values = []\n",
    "\n",
    "for key, value in info.items():\n",
    "    keys.append(key)\n",
    "    values.append(str(value))\n",
    "        \n",
    "print(\"Keys:\", \", \".join(keys))\n",
    "print(\"Values:\", \", \".join(values))"
   ]
  },
  {
   "cell_type": "markdown",
   "id": "8cc291da-c920-4e95-a36b-795d6a1f1bc4",
   "metadata": {},
   "source": [
    "# Task 3 - Using Tuples\r\n"
   ]
  },
  {
   "cell_type": "code",
   "execution_count": 66,
   "id": "7198f01c-00ea-4cea-a066-ef2e0ed8edb4",
   "metadata": {},
   "outputs": [
    {
     "name": "stdout",
     "output_type": "stream",
     "text": [
      "Favorite things: ('sing', 'believer', 'fairy tales')\n",
      "'tuple' object does not support item assignment\n",
      "Length of tuple: 3\n"
     ]
    }
   ],
   "source": [
    "## Create a tuple with three elements: your favorite movie, song, and book.\n",
    "tup = (\"sing\", \"believer\", \"fairy tales\")\n",
    "print(f\"Favorite things: {tup}\")\n",
    "\n",
    "## Try to change one of the elements (you’ll see why tuples are immutable!).\n",
    "try:\n",
    "    tup[0] = \"it\"\n",
    "except TypeError as e:\n",
    "    print(e)\n",
    "    \n",
    "## Print the length of the tuple using the len() function.\n",
    "print(\"Length of tuple:\", len(tup))"
   ]
  }
 ],
 "metadata": {
  "kernelspec": {
   "display_name": "Python 3 (ipykernel)",
   "language": "python",
   "name": "python3"
  },
  "language_info": {
   "codemirror_mode": {
    "name": "ipython",
    "version": 3
   },
   "file_extension": ".py",
   "mimetype": "text/x-python",
   "name": "python",
   "nbconvert_exporter": "python",
   "pygments_lexer": "ipython3",
   "version": "3.12.4"
  }
 },
 "nbformat": 4,
 "nbformat_minor": 5
}
