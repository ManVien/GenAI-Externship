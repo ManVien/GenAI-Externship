{
 "cells": [
  {
   "cell_type": "code",
   "execution_count": 9,
   "id": "164c060d-2583-4055-9760-864877cea3be",
   "metadata": {},
   "outputs": [
    {
     "name": "stdout",
     "output_type": "stream",
     "text": [
      "Welcome to the Inventory Manager! \n",
      "\n",
      "Current inventory:\n",
      "Item: apple, Quantity: 10, Price: $2.5\n",
      "Item: banana, Quantity: 20, Price: $1.2\n",
      "\n",
      "Adding a new item: mango \n",
      "Updated inventory:\n",
      "Item: apple, Quantity: 10, Price: $2.5\n",
      "Item: banana, Quantity: 20, Price: $1.2\n",
      "Item: mango, Quantity: 15, Price: $3.0\n",
      "\n",
      "Remove an item from the inventory: banana \n",
      "Updated inventory:\n",
      "Item: apple, Quantity: 10, Price: $2.5\n",
      "Item: mango, Quantity: 15, Price: $3.0\n",
      "\n",
      "Update the quantity of apple to 20 \n",
      "Updated inventory:\n",
      "Item: apple, Quantity: 20, Price: $2.5\n",
      "Item: mango, Quantity: 15, Price: $3.0\n",
      "\n",
      "Total value of inventory: 95.0\n"
     ]
    }
   ],
   "source": [
    "# create a simple inventory management program using lists, dictionaries, and tuples\n",
    "\n",
    "## Step 1: Create the Inventory\n",
    "### Start with an empty dictionary called inventory.\n",
    "### Each key in the dictionary will represent an item name, and the value will be a tuple containing the quantity and price.\n",
    "inventory = {\n",
    "    \"apple\": (10, 2.5), \n",
    "    \"banana\": (20, 1.2)\n",
    "}\n",
    "\n",
    "print(\"Welcome to the Inventory Manager! \\n\\nCurrent inventory:\")\n",
    "\n",
    "### Write a loop to display all items in the inventory in a friendly format.\n",
    "def display_inventory():\n",
    "    for key, value in inventory.items():\n",
    "        print(f\"Item: {key}, Quantity: {value[0]}, Price: ${value[1]}\")\n",
    "\n",
    "display_inventory()\n",
    "\n",
    "## Step 2: Add, Remove, and Update Items\n",
    "### Add a new item to the inventory (e.g., \"mango\": (15, 3.0)).\n",
    "inventory[\"mango\"] = (15, 3.0)\n",
    "\n",
    "print(\"\\nAdding a new item: mango \\nUpdated inventory:\")\n",
    "\n",
    "display_inventory()\n",
    "    \n",
    "### Remove an item from the inventory.\n",
    "del inventory[\"banana\"]\n",
    "\n",
    "print(\"\\nRemove an item from the inventory: banana \\nUpdated inventory:\")\n",
    "\n",
    "display_inventory()\n",
    "    \n",
    "### Update the quantity or price of an existing item.\n",
    "inventory[\"apple\"] = (20, 2.5)\n",
    "\n",
    "print(\"\\nUpdate the quantity of apple to 20 \\nUpdated inventory:\")\n",
    "\n",
    "display_inventory()\n",
    "\n",
    "## Step 3: Bonus - Calculate Total Value\n",
    "### Add a feature to calculate and display the total value of the inventory by multiplying the quantity and price of each item.\n",
    "total = sum(value[0] * value[1] for value in inventory.values())\n",
    "\n",
    "print(f\"\\nTotal value of inventory: {total}\")"
   ]
  }
 ],
 "metadata": {
  "kernelspec": {
   "display_name": "Python 3 (ipykernel)",
   "language": "python",
   "name": "python3"
  },
  "language_info": {
   "codemirror_mode": {
    "name": "ipython",
    "version": 3
   },
   "file_extension": ".py",
   "mimetype": "text/x-python",
   "name": "python",
   "nbconvert_exporter": "python",
   "pygments_lexer": "ipython3",
   "version": "3.12.4"
  }
 },
 "nbformat": 4,
 "nbformat_minor": 5
}
