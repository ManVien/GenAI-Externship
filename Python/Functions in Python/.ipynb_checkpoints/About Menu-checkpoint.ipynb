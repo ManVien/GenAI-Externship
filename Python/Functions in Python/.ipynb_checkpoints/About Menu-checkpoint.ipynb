{
 "cells": [
  {
   "cell_type": "code",
   "execution_count": null,
   "id": "bf9cdddd-cd72-4ba1-b11a-2d79849ecf2b",
   "metadata": {},
   "outputs": [],
   "source": [
    "# create a Python program that showcases the beauty of recursion and\n",
    "# the functionality of functions through a set of interactive and practical examples.\n",
    "\n",
    "## Step 1: Menu of Recursive Functions\n",
    "### Create a program that presents a menu of choices:\n",
    "\n",
    "### Calculate the factorial of a number.\n",
    "### Find the nth Fibonacci number.\n",
    "### Draw a recursive fractal pattern (bonus).\n",
    "### Exit.\n",
    "### The user should select an option by entering a number.\n",
    "\n",
    "\n",
    "## Step 2: Factorial Function\n",
    "### Implement a recursive function to calculate the factorial of a number and display the result.\n",
    "\n",
    "\n",
    "## Step 3: Fibonacci Function\n",
    "### Implement a recursive function to calculate the nth Fibonacci number and display the result.\n",
    "\n",
    "\n",
    "## Step 4: Recursive Fractal Pattern (Bonus)\n",
    "### Using the turtle library, create a recursive function to draw a fractal pattern (e.g., a tree or snowflake).\n",
    "\n",
    "\n"
   ]
  }
 ],
 "metadata": {
  "kernelspec": {
   "display_name": "Python 3 (ipykernel)",
   "language": "python",
   "name": "python3"
  },
  "language_info": {
   "codemirror_mode": {
    "name": "ipython",
    "version": 3
   },
   "file_extension": ".py",
   "mimetype": "text/x-python",
   "name": "python",
   "nbconvert_exporter": "python",
   "pygments_lexer": "ipython3",
   "version": "3.12.4"
  }
 },
 "nbformat": 4,
 "nbformat_minor": 5
}
