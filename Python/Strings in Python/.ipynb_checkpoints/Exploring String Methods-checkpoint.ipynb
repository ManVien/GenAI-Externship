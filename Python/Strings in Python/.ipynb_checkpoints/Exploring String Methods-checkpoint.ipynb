{
 "cells": [
  {
   "cell_type": "markdown",
   "id": "f2e75df8-d97c-45c8-8a03-a565a84be7d6",
   "metadata": {},
   "source": [
    "# Task 1 - String Slicing and Indexing"
   ]
  },
  {
   "cell_type": "code",
   "execution_count": 26,
   "id": "7def274b-a29f-406b-b4ed-f22107a67fab",
   "metadata": {},
   "outputs": [
    {
     "name": "stdout",
     "output_type": "stream",
     "text": [
      "First word: Python\n",
      "Amazing part: amazing\n",
      "Reversed string: !gnizama si nohtyP\n"
     ]
    }
   ],
   "source": [
    "## Create a string variable with the value \"Python is amazing!\".\n",
    "strg = \"Python is amazing!\"\n",
    "\n",
    "## The first 6 characters (\"Python\")\n",
    "print(f\"First word: {strg[:6]}\")\n",
    "\n",
    "## The word \"amazing\"\n",
    "print(f\"Amazing part: {strg[-8:-1]}\")\n",
    "\n",
    "## The entire string in reverse order\n",
    "print(f\"Reversed string: {strg[::-1]}\")"
   ]
  },
  {
   "cell_type": "markdown",
   "id": "ad0eb5a9-03fd-44f3-862b-054551162b10",
   "metadata": {},
   "source": [
    "# Task 2 - String Methods\r\n"
   ]
  },
  {
   "cell_type": "code",
   "execution_count": 40,
   "id": "2f498e11-01b6-401a-9632-665ddff65831",
   "metadata": {},
   "outputs": [
    {
     "name": "stdout",
     "output_type": "stream",
     "text": [
      "Original string:  hello, python world! \n",
      "Remove extra spaces: hello, python world!\n",
      "Capitalize the first letter: Hello, python world!\n",
      "Replace \"world\" with \"universe\": hello, python universe!\n",
      "Convert the string to uppercase: HELLO, PYTHON WORLD!\n"
     ]
    }
   ],
   "source": [
    "## Create a string with the value \" hello, python world! \".\n",
    "strg = \" hello, python world! \"\n",
    "print(f\"Original string: {strg}\")\n",
    "\n",
    "## Use the following string methods and print the results:\n",
    "## strip() to remove extra spaces\n",
    "stripped = strg.strip()\n",
    "print(f\"Remove extra spaces: {stripped}\")\n",
    "\n",
    "## capitalize() to capitalize the first letter\n",
    "print(f\"Capitalize the first letter: {stripped.capitalize()}\")\n",
    "\n",
    "## replace() to replace \"world\" with \"universe\"\n",
    "print(f\"Replace \\\"world\\\" with \\\"universe\\\": {stripped.replace(\"world\", \"universe\")}\")\n",
    "\n",
    "## upper() to convert the string to uppercase\n",
    "print(f\"Convert the string to uppercase: {stripped.upper()}\")"
   ]
  },
  {
   "cell_type": "markdown",
   "id": "f7af6613-4a52-42b6-b8bf-16c22b1a41fa",
   "metadata": {},
   "source": [
    "# Task 3 - Check for Palindromes\n"
   ]
  },
  {
   "cell_type": "code",
   "execution_count": 58,
   "id": "abdbd1cc-78ce-400f-9daa-ebf72dabb3af",
   "metadata": {},
   "outputs": [
    {
     "name": "stdin",
     "output_type": "stream",
     "text": [
      "Enter a word: racecAr\n"
     ]
    },
    {
     "name": "stdout",
     "output_type": "stream",
     "text": [
      "Yes, 'racecAr' is a palindrome!\n"
     ]
    }
   ],
   "source": [
    "## Write a Python program to check if a string is a palindrome (reads the same backward and forward).\n",
    "\n",
    "## Ask the user to input a word.\n",
    "word = input(\"Enter a word:\")\n",
    "\n",
    "## Use slicing to reverse the string and compare it with the original.\n",
    "if word[::-1].lower() == word.lower():\n",
    "    print(f\"Yes, \\'{word}\\' is a palindrome!\")\n",
    "else:\n",
    "    print(f\"No, \\'{word}\\' is not a palindrome!\")"
   ]
  }
 ],
 "metadata": {
  "kernelspec": {
   "display_name": "Python 3 (ipykernel)",
   "language": "python",
   "name": "python3"
  },
  "language_info": {
   "codemirror_mode": {
    "name": "ipython",
    "version": 3
   },
   "file_extension": ".py",
   "mimetype": "text/x-python",
   "name": "python",
   "nbconvert_exporter": "python",
   "pygments_lexer": "ipython3",
   "version": "3.12.4"
  }
 },
 "nbformat": 4,
 "nbformat_minor": 5
}
