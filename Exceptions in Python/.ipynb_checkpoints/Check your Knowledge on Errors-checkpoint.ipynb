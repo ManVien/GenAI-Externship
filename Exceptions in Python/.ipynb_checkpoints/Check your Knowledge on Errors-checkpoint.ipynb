{
 "cells": [
  {
   "cell_type": "markdown",
   "id": "a5143537-d2df-4c16-90f2-b1b1ed1cadf1",
   "metadata": {},
   "source": [
    "# Task 1 - Understanding Python Exceptions"
   ]
  },
  {
   "cell_type": "code",
   "execution_count": 1,
   "id": "b93c1bce-9a75-4af3-ae83-ce51ad74b497",
   "metadata": {},
   "outputs": [
    {
     "name": "stdin",
     "output_type": "stream",
     "text": [
      "Enter a number: abc\n"
     ]
    },
    {
     "name": "stdout",
     "output_type": "stream",
     "text": [
      "Invalid input! Please enter a valid number.\n"
     ]
    },
    {
     "name": "stdin",
     "output_type": "stream",
     "text": [
      "Enter a number: 0\n"
     ]
    },
    {
     "name": "stdout",
     "output_type": "stream",
     "text": [
      "Oops! You cannot divide by zero.\n"
     ]
    },
    {
     "name": "stdin",
     "output_type": "stream",
     "text": [
      "Enter a number: 5\n"
     ]
    },
    {
     "name": "stdout",
     "output_type": "stream",
     "text": [
      "100 divided by 5.0 is 20.0.\n"
     ]
    }
   ],
   "source": [
    "## Write a Python program that:\n",
    "while True:\n",
    "    try:\n",
    "        ## Prompts the user to enter a number.\n",
    "        num = float(input(\"Enter a number:\"))\n",
    "        ## Tries to divide 100 by the number.\n",
    "        result = 100 / num\n",
    "    ## Handles the following exceptions:\n",
    "    ## ZeroDivisionError (when dividing by zero).\n",
    "    except ZeroDivisionError:\n",
    "        print(\"Oops! You cannot divide by zero.\")\n",
    "        continue\n",
    "    ## ValueError (when the user enters non-numeric input).\n",
    "    except ValueError:\n",
    "        print(\"Invalid input! Please enter a valid number.\")\n",
    "        continue\n",
    "    else:\n",
    "        print(f\"100 divided by {num} is {result}.\")\n",
    "        break"
   ]
  },
  {
   "cell_type": "markdown",
   "id": "9e157a20-ff09-4b73-8c46-0adaf589c202",
   "metadata": {},
   "source": [
    "# Task 2 - Types of Exceptions"
   ]
  },
  {
   "cell_type": "code",
   "execution_count": 3,
   "id": "aeb3cfbd-06b6-4f9a-ab51-c7ab2089939d",
   "metadata": {},
   "outputs": [
    {
     "name": "stdout",
     "output_type": "stream",
     "text": [
      "IndexError occurred! List index out of range.\n",
      "KeyError occurred! Key not found in the dictionary.\n",
      "TypeError occurred! Unsupported operand types.\n"
     ]
    }
   ],
   "source": [
    "## Create a program that intentionally raises and handles the following exceptions:\n",
    "try:\n",
    "    my_list = [1, 2, 3]\n",
    "    print(f\"Index 5 of the list is {my_list[5]}\")\n",
    "## IndexError by accessing an invalid list index.\n",
    "except IndexError:\n",
    "    print(\"IndexError occurred! List index out of range.\")\n",
    "\n",
    "try:\n",
    "    my_dict = {\"name\": \"mandy\", \"age\": 28}\n",
    "    print(f\"The key 'email' is {my_dict[\"email\"]}\")\n",
    "## KeyError by trying to access a non-existent key in a dictionary.\n",
    "except KeyError:\n",
    "    print(\"KeyError occurred! Key not found in the dictionary.\")\n",
    "\n",
    "try:\n",
    "    num = 7\n",
    "    animal = \"dog(s)\"\n",
    "    result = num + animal\n",
    "    print(f\"There is/are {result}\")\n",
    "## TypeError by adding a string and an integer.\n",
    "except TypeError:\n",
    "    print(\"TypeError occurred! Unsupported operand types.\")"
   ]
  },
  {
   "cell_type": "markdown",
   "id": "3437e7ca-782b-4095-a3ae-3cce220925fa",
   "metadata": {},
   "source": [
    "# Task 3 - Using try...except...else...finally\n"
   ]
  },
  {
   "cell_type": "code",
   "execution_count": 5,
   "id": "4921d301-bb9c-4cd6-8c5d-b2ba36db19b2",
   "metadata": {},
   "outputs": [
    {
     "name": "stdin",
     "output_type": "stream",
     "text": [
      "Enter the first number: 2\n",
      "Enter the second number: 10\n"
     ]
    },
    {
     "name": "stdout",
     "output_type": "stream",
     "text": [
      "The result is 0.2.\n",
      "This block always executes.\n"
     ]
    }
   ],
   "source": [
    "## Write a program that:\n",
    "try:\n",
    "    ## Prompts the user to enter two numbers.\n",
    "    num1 = float(input(\"Enter the first number:\"))\n",
    "    num2 = float(input(\"Enter the second number:\"))\n",
    "    ## Tries to divide the first number by the second number.\n",
    "    result = num1 / num2\n",
    "except ZeroDivisionError:\n",
    "    print(\"Oops! You cannot divide by zero.\")\n",
    "except ValueError:\n",
    "    print(\"Invalid input! Please enter a valid number.\")\n",
    "else:\n",
    "    # if no exceptions occur.\n",
    "    print(f\"The result is {result}.\")\n",
    "finally:\n",
    "    # print a closing message regardless of exceptions.\n",
    "    print(\"This block always executes.\")"
   ]
  }
 ],
 "metadata": {
  "kernelspec": {
   "display_name": "Python 3 (ipykernel)",
   "language": "python",
   "name": "python3"
  },
  "language_info": {
   "codemirror_mode": {
    "name": "ipython",
    "version": 3
   },
   "file_extension": ".py",
   "mimetype": "text/x-python",
   "name": "python",
   "nbconvert_exporter": "python",
   "pygments_lexer": "ipython3",
   "version": "3.12.4"
  }
 },
 "nbformat": 4,
 "nbformat_minor": 5
}
