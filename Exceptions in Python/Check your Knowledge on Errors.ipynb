{
 "cells": [
  {
   "cell_type": "markdown",
   "id": "a5143537-d2df-4c16-90f2-b1b1ed1cadf1",
   "metadata": {},
   "source": [
    "# Task 1 - Understanding Python Exceptions"
   ]
  },
  {
   "cell_type": "code",
   "execution_count": null,
   "id": "b93c1bce-9a75-4af3-ae83-ce51ad74b497",
   "metadata": {},
   "outputs": [],
   "source": [
    "## Write a Python program that:\n",
    "\n",
    "## Prompts the user to enter a number.\n",
    "## Tries to divide 100 by the number.\n",
    "## Handles the following exceptions:\n",
    "## ZeroDivisionError (when dividing by zero).\n",
    "## ValueError (when the user enters non-numeric input).\n",
    "## Prints appropriate error messages for each exception."
   ]
  },
  {
   "cell_type": "markdown",
   "id": "9e157a20-ff09-4b73-8c46-0adaf589c202",
   "metadata": {},
   "source": [
    "# Task 2 - Types of Exceptions"
   ]
  },
  {
   "cell_type": "code",
   "execution_count": null,
   "id": "aeb3cfbd-06b6-4f9a-ab51-c7ab2089939d",
   "metadata": {},
   "outputs": [],
   "source": [
    "## Create a program that intentionally raises and handles the following exceptions:\n",
    "\n",
    "## IndexError by accessing an invalid list index.\n",
    "## KeyError by trying to access a non-existent key in a dictionary.\n",
    "## TypeError by adding a string and an integer."
   ]
  },
  {
   "cell_type": "markdown",
   "id": "3437e7ca-782b-4095-a3ae-3cce220925fa",
   "metadata": {},
   "source": [
    "# Task 3 - Using try...except...else...finally\n"
   ]
  },
  {
   "cell_type": "code",
   "execution_count": null,
   "id": "4921d301-bb9c-4cd6-8c5d-b2ba36db19b2",
   "metadata": {},
   "outputs": [],
   "source": [
    "## Write a program that:\n",
    "## Prompts the user to enter two numbers.\n",
    "## Tries to divide the first number by the second number.\n",
    "## Implements the following:\n",
    "try block to attempt the division.\n",
    "except block to handle exceptions.\n",
    "else block to display the result if no exceptions occur.\n",
    "finally block to print a closing message regardless of exceptions."
   ]
  }
 ],
 "metadata": {
  "kernelspec": {
   "display_name": "Python 3 (ipykernel)",
   "language": "python",
   "name": "python3"
  },
  "language_info": {
   "codemirror_mode": {
    "name": "ipython",
    "version": 3
   },
   "file_extension": ".py",
   "mimetype": "text/x-python",
   "name": "python",
   "nbconvert_exporter": "python",
   "pygments_lexer": "ipython3",
   "version": "3.12.4"
  }
 },
 "nbformat": 4,
 "nbformat_minor": 5
}
