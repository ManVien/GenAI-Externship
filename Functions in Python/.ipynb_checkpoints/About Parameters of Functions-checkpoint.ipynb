{
 "cells": [
  {
   "cell_type": "markdown",
   "id": "73a14115-33ea-489b-9967-f54e48c83fa3",
   "metadata": {},
   "source": [
    "# Task 1 - Writing Functions"
   ]
  },
  {
   "cell_type": "code",
   "execution_count": 1,
   "id": "647937da-7832-48f6-9c82-31b863c4b711",
   "metadata": {},
   "outputs": [
    {
     "name": "stdout",
     "output_type": "stream",
     "text": [
      "Hello, Mandy! Welcome aboard.\n",
      "The sum of 5 and 10 is 15.\n"
     ]
    }
   ],
   "source": [
    "## Create a function greet_user that accepts a name as a parameter and prints a personalized greeting.\n",
    "def greet_user(name):\n",
    "    print(f\"Hello, {name}! Welcome aboard.\")\n",
    "## Then, write another function add_numbers that takes two numbers as parameters, adds them, and returns the result.\n",
    "def add_numbers(a, b):\n",
    "    return a + b\n",
    "\n",
    "a = 5\n",
    "b = 10\n",
    "\n",
    "total = add_numbers(5, 10)\n",
    "greet_user(\"Mandy\")\n",
    "print(f\"The sum of {a} and {b} is {total}.\")"
   ]
  },
  {
   "cell_type": "markdown",
   "id": "32211a22-304a-4cef-befa-546813cf2bc1",
   "metadata": {},
   "source": [
    "# Task 2 - Using Default Parameters\n"
   ]
  },
  {
   "cell_type": "code",
   "execution_count": 1,
   "id": "eb542211-d97b-457a-8907-51804aef2715",
   "metadata": {},
   "outputs": [
    {
     "name": "stdout",
     "output_type": "stream",
     "text": [
      "I have a dog named Cindy. I have a cat named Lucy. "
     ]
    }
   ],
   "source": [
    "## Create a function describe_pet that accepts two parameters:\n",
    "### pet_name (string)\n",
    "### animal_type (string, default value is \"dog\").\n",
    "## The function should print a description of the pet.\n",
    "\n",
    "def describe_pet(pet_name, animal_type = \"dog\"):\n",
    "    print(f\"I have a {animal_type} named {pet_name}.\", end=\" \")\n",
    "\n",
    "describe_pet(\"Cindy\")\n",
    "describe_pet(\"Lucy\", \"cat\")"
   ]
  },
  {
   "cell_type": "markdown",
   "id": "b9845f3a-bb2b-461c-a32f-1fa19e1413b2",
   "metadata": {},
   "source": [
    "# Task 3 - Functions with Variable Arguments\n"
   ]
  },
  {
   "cell_type": "code",
   "execution_count": 11,
   "id": "df7539df-3367-489e-afd9-fe227e2c3f6d",
   "metadata": {},
   "outputs": [
    {
     "name": "stdout",
     "output_type": "stream",
     "text": [
      "Making a sandwich with the following ingredients: - Lettuce - Tomato - Cheese "
     ]
    }
   ],
   "source": [
    "## Write a function make_sandwich that accepts a variable number of arguments for sandwich ingredients and prints them as a list\n",
    "def make_sandwich(*args):\n",
    "    print(\"Making a sandwich with the following ingredients:\", end=\" \")\n",
    "    for i in args:\n",
    "        print(f\"- {i}\", end=\" \")\n",
    "\n",
    "make_sandwich(\"Lettuce\", \"Tomato\", \"Cheese\")"
   ]
  },
  {
   "cell_type": "markdown",
   "id": "f97ea919-242d-4ad7-ba38-a54aade09559",
   "metadata": {},
   "source": [
    "# Task 4 - Understanding Recursion"
   ]
  },
  {
   "cell_type": "code",
   "execution_count": 5,
   "id": "0342ed4d-ab60-4a94-97b6-b832ced2691f",
   "metadata": {},
   "outputs": [
    {
     "name": "stdout",
     "output_type": "stream",
     "text": [
      "Factorial of 0 is 1. The 8th Fibonacci number is 21.\n"
     ]
    }
   ],
   "source": [
    "## Write a recursive function factorial to calculate the factorial of a number.\n",
    "def factorial(n):\n",
    "    if n == 0 or n == 1:\n",
    "        return 1\n",
    "    else:\n",
    "        return n * factorial(n - 1)\n",
    "\n",
    "## Write another recursive function fibonacci to calculate the nth number in the Fibonacci sequence.\n",
    "def fibonacci(n):\n",
    "    if n == 0:\n",
    "        return 0\n",
    "    elif n == 1:\n",
    "        return 1\n",
    "    else:\n",
    "        return fibonacci(n-1) + fibonacci(n-2)\n",
    "\n",
    "n = 0\n",
    "m = 8\n",
    "\n",
    "print(f\"Factorial of {n} is {factorial(n)}.\", end=\" \")\n",
    "print(f\"The {m}th Fibonacci number is {fibonacci(m)}.\")"
   ]
  }
 ],
 "metadata": {
  "kernelspec": {
   "display_name": "Python 3 (ipykernel)",
   "language": "python",
   "name": "python3"
  },
  "language_info": {
   "codemirror_mode": {
    "name": "ipython",
    "version": 3
   },
   "file_extension": ".py",
   "mimetype": "text/x-python",
   "name": "python",
   "nbconvert_exporter": "python",
   "pygments_lexer": "ipython3",
   "version": "3.12.4"
  }
 },
 "nbformat": 4,
 "nbformat_minor": 5
}
