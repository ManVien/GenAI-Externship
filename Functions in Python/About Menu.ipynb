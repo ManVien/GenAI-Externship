{
 "cells": [
  {
   "cell_type": "code",
   "execution_count": 1,
   "id": "bf9cdddd-cd72-4ba1-b11a-2d79849ecf2b",
   "metadata": {},
   "outputs": [
    {
     "name": "stdout",
     "output_type": "stream",
     "text": [
      "Welcome to the Recursive Artistry Program!\n",
      "Choose an option:\n",
      "1. Calculate Factorial\n",
      "2. Find Fibonacci\n",
      "3. Draw a Recursive Fractal\n",
      "4. Exit\n"
     ]
    },
    {
     "name": "stdin",
     "output_type": "stream",
     "text": [
      "Your choice: 2\n",
      "Enter the position of the Fibonacci number: 8\n"
     ]
    },
    {
     "name": "stdout",
     "output_type": "stream",
     "text": [
      "The 8th Fibonacci number is 21.\n"
     ]
    }
   ],
   "source": [
    "# create a Python program that showcases the beauty of recursion and\n",
    "# the functionality of functions through a set of interactive and practical examples.\n",
    "\n",
    "## Step 1: Write Factorial Function\n",
    "### Implement a recursive function to calculate the factorial of a number and display the result.\n",
    "def factorial(n):\n",
    "    if n == 0 or n == 1:\n",
    "        return 1\n",
    "    else:\n",
    "        return n * factorial(n - 1)\n",
    "        \n",
    "## Step 2: Write Fibonacci Function\n",
    "### Implement a recursive function to calculate the nth Fibonacci number and display the result.\n",
    "def fibonacci(n):\n",
    "    if n == 0:\n",
    "        return 0\n",
    "    elif n == 1:\n",
    "        return 1\n",
    "    else:\n",
    "        return fibonacci(n - 1) + fibonacci(n - 2)\n",
    "\n",
    "## Step 3: Write Recursive Fractal Pattern (Bonus)\n",
    "### Using the turtle library, create a recursive function to draw a fractal pattern (e.g., a tree or snowflake).\n",
    "import turtle\n",
    "\n",
    "def draw_branch(t, length):\n",
    "    ### Base case: Stop if length is too short (e.g., < 10).\n",
    "    if length < 10:\n",
    "        return \n",
    "    ### Recursive case:\n",
    "    ### Draw the main branch.\n",
    "    t.forward(length)\n",
    "    ### Turn right    \n",
    "    t.right(30)\n",
    "    ### Right subtree.\n",
    "    draw_branch(t, length * 0.7)\n",
    "    ### Turn left past center.\n",
    "    t.left(60)\n",
    "    ### Left subtree\n",
    "    draw_branch(t, length * 0.7)\n",
    "    ### Return to orginal heading\n",
    "    t.right(30)\n",
    "    ### Go back to the previous branch point.\n",
    "    t.backward(length)\n",
    "\n",
    "## Step 4: Menu of Recursive Functions\n",
    "### Create a program that presents a menu of choices:\n",
    "def main():\n",
    "    print(\"Welcome to the Recursive Artistry Program!\\n\"\n",
    "          \"Choose an option:\\n\"\n",
    "          \"1. Calculate Factorial\\n\"\n",
    "          \"2. Find Fibonacci\\n\"\n",
    "          \"3. Draw a Recursive Fractal\\n\"\n",
    "          \"4. Exit\")\n",
    "\n",
    "    ### The user should select an option by entering a number.\n",
    "    choice = int(input(\"Your choice:\"))\n",
    "    \n",
    "    if choice == 1:\n",
    "        fac_num = int(input(\"Enter a number to find its factorial:\")) \n",
    "        print(f\"The factorial of {fac_num} is {factorial(fac_num)}.\")\n",
    "    elif choice == 2:\n",
    "        fib_num = int(input(\"Enter the position of the Fibonacci number:\")) \n",
    "        print(f\"The {fib_num}th Fibonacci number is {fibonacci(fib_num)}.\")\n",
    "    elif choice == 3:\n",
    "        # Set up turtle\n",
    "            screen = turtle.Screen()\n",
    "            t = turtle.Turtle()\n",
    "            t.speed(\"fastest\")\n",
    "            t.left(90)             # Point upward\n",
    "            t.penup()\n",
    "            t.goto(0, -200)        # Start at the bottom center\n",
    "            t.pendown()\n",
    "        \n",
    "            draw_branch(t, 100)\n",
    "            turtle.done()\n",
    "    else:\n",
    "        print(\"Bye! See you again!\")\n",
    "\n",
    "# Run the program\n",
    "main()"
   ]
  }
 ],
 "metadata": {
  "kernelspec": {
   "display_name": "Python 3 (ipykernel)",
   "language": "python",
   "name": "python3"
  },
  "language_info": {
   "codemirror_mode": {
    "name": "ipython",
    "version": 3
   },
   "file_extension": ".py",
   "mimetype": "text/x-python",
   "name": "python",
   "nbconvert_exporter": "python",
   "pygments_lexer": "ipython3",
   "version": "3.12.4"
  }
 },
 "nbformat": 4,
 "nbformat_minor": 5
}
