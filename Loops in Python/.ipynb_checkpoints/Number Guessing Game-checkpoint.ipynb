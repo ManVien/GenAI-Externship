{
 "cells": [
  {
   "cell_type": "code",
   "execution_count": 9,
   "id": "726b1e3c-41b0-49af-9b8a-48cef87effd5",
   "metadata": {},
   "outputs": [
    {
     "name": "stdin",
     "output_type": "stream",
     "text": [
      "Guess the number (between 1 and 100): 45\n"
     ]
    },
    {
     "name": "stdout",
     "output_type": "stream",
     "text": [
      "Too high! Try again.\n"
     ]
    },
    {
     "name": "stdin",
     "output_type": "stream",
     "text": [
      "Guess the number (between 1 and 100): 40\n"
     ]
    },
    {
     "name": "stdout",
     "output_type": "stream",
     "text": [
      "Too high! Try again.\n"
     ]
    },
    {
     "name": "stdin",
     "output_type": "stream",
     "text": [
      "Guess the number (between 1 and 100): 30\n"
     ]
    },
    {
     "name": "stdout",
     "output_type": "stream",
     "text": [
      "Too high! Try again.\n"
     ]
    },
    {
     "name": "stdin",
     "output_type": "stream",
     "text": [
      "Guess the number (between 1 and 100): 20\n"
     ]
    },
    {
     "name": "stdout",
     "output_type": "stream",
     "text": [
      "Too high! Try again.\n"
     ]
    },
    {
     "name": "stdin",
     "output_type": "stream",
     "text": [
      "Guess the number (between 1 and 100): 10\n"
     ]
    },
    {
     "name": "stdout",
     "output_type": "stream",
     "text": [
      "Too low! Try again.\n"
     ]
    },
    {
     "name": "stdin",
     "output_type": "stream",
     "text": [
      "Guess the number (between 1 and 100): 15\n"
     ]
    },
    {
     "name": "stdout",
     "output_type": "stream",
     "text": [
      "Too high! Try again.\n"
     ]
    },
    {
     "name": "stdin",
     "output_type": "stream",
     "text": [
      "Guess the number (between 1 and 100): 13\n"
     ]
    },
    {
     "name": "stdout",
     "output_type": "stream",
     "text": [
      "Congratulations! You guessed it in 7 attempts!\n"
     ]
    }
   ],
   "source": [
    "# For this project, create a simple yet addictive number-guessing game. \n",
    "\n",
    "## Step 1: Generate a Random Number\n",
    "### Use Python’s random module to generate a random number between 1 and 100.\n",
    "\n",
    "import random\n",
    "number_to_guess = random.randint(1, 100)\n",
    "\n",
    "attempts = 0\n",
    "max_atts = 10\n",
    "user_num = None \n",
    "\n",
    "while attempts < max_atts: \n",
    "    ## Step 2: Prompt the User for Guesses\n",
    "    user_num = int(input(\"Guess the number (between 1 and 100):\"))\n",
    "    attempts += 1\n",
    "    \n",
    "    ### Use a while loop to let the user keep guessing until they get the correct answer. After each guess:\n",
    "    if user_num > number_to_guess:\n",
    "        print(\"Too high! Try again.\")\n",
    "    elif user_num < number_to_guess:\n",
    "        print(\"Too low! Try again.\")\n",
    "    else:\n",
    "        print(f\"Congratulations! You guessed it in {attempts} attempts!\")\n",
    "        break\n",
    "else:\n",
    "    print(f\"Game over! Better luck next time! The number was {number_to_guess}.\")"
   ]
  }
 ],
 "metadata": {
  "kernelspec": {
   "display_name": "Python 3 (ipykernel)",
   "language": "python",
   "name": "python3"
  },
  "language_info": {
   "codemirror_mode": {
    "name": "ipython",
    "version": 3
   },
   "file_extension": ".py",
   "mimetype": "text/x-python",
   "name": "python",
   "nbconvert_exporter": "python",
   "pygments_lexer": "ipython3",
   "version": "3.12.4"
  }
 },
 "nbformat": 4,
 "nbformat_minor": 5
}
